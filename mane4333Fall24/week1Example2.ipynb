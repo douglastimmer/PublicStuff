{
 "cells": [
  {
   "cell_type": "code",
   "execution_count": 1,
   "metadata": {},
   "outputs": [
    {
     "name": "stdout",
     "output_type": "stream",
     "text": [
      "Enter the total sample size: 200\n",
      "n= [2, 4, 5, 8, 10, 20, 25, 40, 50, 100]\n",
      "m= [100, 50, 40, 25, 20, 10, 8, 5, 4, 2]\n"
     ]
    }
   ],
   "source": [
    "import scipy.stats as stat\n",
    "import pandas as pd\n",
    "from IPython.display import Image,display,Latex, HTML\n",
    "N=int(input(\"Enter the total sample size: \"))\n",
    "n=[]\n",
    "m=[]\n",
    "for i in range(2,N//2+1):\n",
    "    if (N%i==0):\n",
    "        n.append(int(i))\n",
    "        m.append(int(N/i))\n",
    "print(\"n=\",n)\n",
    "print(\"m=\",m)"
   ]
  },
  {
   "cell_type": "code",
   "execution_count": 2,
   "metadata": {},
   "outputs": [
    {
     "name": "stdout",
     "output_type": "stream",
     "text": [
      "Enter the overall type I error rate (alpha-FAP): .05\n",
      "Enter the value of lambda for calculating type II error: 3.0\n"
     ]
    }
   ],
   "source": [
    "alpha_fap=float(input(\"Enter the overall type I error rate (alpha-FAP): \"))\n",
    "l=float(input(\"Enter the value of lambda for calculating type II error: \"))"
   ]
  },
  {
   "cell_type": "code",
   "execution_count": 3,
   "metadata": {},
   "outputs": [],
   "source": [
    "ub=[]\n",
    "lb=[]\n",
    "alpha_far=[]\n",
    "beta_far=[]\n",
    "beta_fap=[]\n",
    "for j in range(0,len(n)):\n",
    "    alpha_far.append(alpha_fap/m[j])\n",
    "    lb.append(stat.f.ppf(alpha_far[j]/2.0,n[j]-1,(n[j]-1)*(m[j]-1)))\n",
    "    ub.append(stat.f.ppf(1.0-alpha_far[j]/2.0,n[j]-1,(n[j]-1)*(m[j]-1)))\n",
    "    beta_far.append(stat.f.cdf(ub[j]/l,n[j]-1,(n[j]-1)*(m[j]-1))-stat.f.cdf(lb[j]/l,n[j]-1,(n[j]-1)*(m[j]-1)))\n",
    "    beta_fap.append(min(1.0,m[j]*beta_far[j]))"
   ]
  },
  {
   "cell_type": "code",
   "execution_count": 4,
   "metadata": {},
   "outputs": [
    {
     "data": {
      "text/html": [
       "<table border=\"1\" class=\"dataframe\">\n",
       "  <thead>\n",
       "    <tr style=\"text-align: right;\">\n",
       "      <th>n</th>\n",
       "      <th>m</th>\n",
       "      <th>alpha_far</th>\n",
       "      <th>Lower Bound</th>\n",
       "      <th>Upper Bound</th>\n",
       "      <th>beta_far</th>\n",
       "      <th>beta_fap</th>\n",
       "    </tr>\n",
       "  </thead>\n",
       "  <tbody>\n",
       "    <tr>\n",
       "      <td>2</td>\n",
       "      <td>100</td>\n",
       "      <td>0.00050</td>\n",
       "      <td>9.867185e-08</td>\n",
       "      <td>14.440015</td>\n",
       "      <td>0.969276</td>\n",
       "      <td>1.000000</td>\n",
       "    </tr>\n",
       "    <tr>\n",
       "      <td>4</td>\n",
       "      <td>50</td>\n",
       "      <td>0.00100</td>\n",
       "      <td>5.076036e-03</td>\n",
       "      <td>6.258871</td>\n",
       "      <td>0.895368</td>\n",
       "      <td>1.000000</td>\n",
       "    </tr>\n",
       "    <tr>\n",
       "      <td>5</td>\n",
       "      <td>40</td>\n",
       "      <td>0.00125</td>\n",
       "      <td>1.777991e-02</td>\n",
       "      <td>5.159744</td>\n",
       "      <td>0.851670</td>\n",
       "      <td>1.000000</td>\n",
       "    </tr>\n",
       "    <tr>\n",
       "      <td>8</td>\n",
       "      <td>25</td>\n",
       "      <td>0.00200</td>\n",
       "      <td>8.439930e-02</td>\n",
       "      <td>3.680779</td>\n",
       "      <td>0.709381</td>\n",
       "      <td>1.000000</td>\n",
       "    </tr>\n",
       "    <tr>\n",
       "      <td>10</td>\n",
       "      <td>20</td>\n",
       "      <td>0.00250</td>\n",
       "      <td>1.330585e-01</td>\n",
       "      <td>3.218239</td>\n",
       "      <td>0.614646</td>\n",
       "      <td>1.000000</td>\n",
       "    </tr>\n",
       "    <tr>\n",
       "      <td>20</td>\n",
       "      <td>10</td>\n",
       "      <td>0.00500</td>\n",
       "      <td>3.147920e-01</td>\n",
       "      <td>2.305695</td>\n",
       "      <td>0.258384</td>\n",
       "      <td>1.000000</td>\n",
       "    </tr>\n",
       "    <tr>\n",
       "      <td>25</td>\n",
       "      <td>8</td>\n",
       "      <td>0.00625</td>\n",
       "      <td>3.738132e-01</td>\n",
       "      <td>2.119492</td>\n",
       "      <td>0.159563</td>\n",
       "      <td>1.000000</td>\n",
       "    </tr>\n",
       "    <tr>\n",
       "      <td>40</td>\n",
       "      <td>5</td>\n",
       "      <td>0.01000</td>\n",
       "      <td>4.872492e-01</td>\n",
       "      <td>1.833128</td>\n",
       "      <td>0.036521</td>\n",
       "      <td>0.182607</td>\n",
       "    </tr>\n",
       "    <tr>\n",
       "      <td>50</td>\n",
       "      <td>4</td>\n",
       "      <td>0.01250</td>\n",
       "      <td>5.337769e-01</td>\n",
       "      <td>1.736367</td>\n",
       "      <td>0.014356</td>\n",
       "      <td>0.057424</td>\n",
       "    </tr>\n",
       "    <tr>\n",
       "      <td>100</td>\n",
       "      <td>2</td>\n",
       "      <td>0.02500</td>\n",
       "      <td>6.353398e-01</td>\n",
       "      <td>1.573961</td>\n",
       "      <td>0.000752</td>\n",
       "      <td>0.001505</td>\n",
       "    </tr>\n",
       "  </tbody>\n",
       "</table>"
      ],
      "text/plain": [
       "<IPython.core.display.HTML object>"
      ]
     },
     "metadata": {},
     "output_type": "display_data"
    }
   ],
   "source": [
    "sampling_plans=pd.DataFrame({'m':m,'alpha_far':alpha_far,'Lower Bound':lb,'Upper Bound':ub,'n':n,'beta_far':beta_far,'beta_fap':beta_fap})\n",
    "sampling_plans=sampling_plans[['n','m','alpha_far','Lower Bound','Upper Bound','beta_far','beta_fap']]\n",
    "display(HTML(sampling_plans.to_html(index=False)))\n",
    "#sampling_plans.style"
   ]
  },
  {
   "cell_type": "code",
   "execution_count": null,
   "metadata": {},
   "outputs": [],
   "source": []
  }
 ],
 "metadata": {
  "kernelspec": {
   "display_name": "Python 3",
   "language": "python",
   "name": "python3"
  },
  "language_info": {
   "codemirror_mode": {
    "name": "ipython",
    "version": 3
   },
   "file_extension": ".py",
   "mimetype": "text/x-python",
   "name": "python",
   "nbconvert_exporter": "python",
   "pygments_lexer": "ipython3",
   "version": "3.6.8"
  }
 },
 "nbformat": 4,
 "nbformat_minor": 2
}
