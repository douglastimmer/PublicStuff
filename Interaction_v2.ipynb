{
 "cells": [
  {
   "cell_type": "code",
   "execution_count": 1,
   "metadata": {},
   "outputs": [
    {
     "data": {
      "application/vnd.jupyter.widget-view+json": {
       "model_id": "259ba1c61d0044da973f9be2963d5581",
       "version_major": 2,
       "version_minor": 0
      },
      "text/plain": [
       "FloatSlider(value=0.0, description='b0', max=5.0, min=-5.0)"
      ]
     },
     "metadata": {},
     "output_type": "display_data"
    },
    {
     "data": {
      "application/vnd.jupyter.widget-view+json": {
       "model_id": "45077bf0e70c4f7a8bca1a4b9097d3a4",
       "version_major": 2,
       "version_minor": 0
      },
      "text/plain": [
       "FloatSlider(value=0.0, description='b1', max=5.0, min=-5.0)"
      ]
     },
     "metadata": {},
     "output_type": "display_data"
    },
    {
     "data": {
      "application/vnd.jupyter.widget-view+json": {
       "model_id": "8adf85426ce74b939d9060ee4cdf4aa2",
       "version_major": 2,
       "version_minor": 0
      },
      "text/plain": [
       "FloatSlider(value=0.0, description='b2', max=5.0, min=-5.0)"
      ]
     },
     "metadata": {},
     "output_type": "display_data"
    },
    {
     "data": {
      "application/vnd.jupyter.widget-view+json": {
       "model_id": "2cc6b9350334497f9081c3a9a2e45678",
       "version_major": 2,
       "version_minor": 0
      },
      "text/plain": [
       "FloatSlider(value=0.0, description='b12', max=5.0, min=-5.0)"
      ]
     },
     "metadata": {},
     "output_type": "display_data"
    },
    {
     "data": {
      "application/vnd.jupyter.widget-view+json": {
       "model_id": "1137a39947d6403bb3b9168565163f9d",
       "version_major": 2,
       "version_minor": 0
      },
      "text/plain": [
       "Output()"
      ]
     },
     "metadata": {},
     "output_type": "display_data"
    }
   ],
   "source": [
    "import matplotlib\n",
    "import numpy as np\n",
    "import matplotlib.cm as cm\n",
    "import matplotlib.mlab as mlab\n",
    "import matplotlib.pyplot as plt\n",
    "from mpl_toolkits.mplot3d import Axes3D\n",
    "from ipywidgets import interact, interactive, fixed, interact_manual\n",
    "from ipywidgets import FloatSlider,HBox\n",
    "import ipywidgets as widgets\n",
    "#\n",
    "#\n",
    "%matplotlib inline\n",
    "def f(b0,b1,b2,b12):\n",
    "    delta = 0.025\n",
    "    x = np.arange(-2.0, 2.0, delta)\n",
    "    y = np.arange(-2.0, 2.0, delta)\n",
    "    X, Y = np.meshgrid(x, y)\n",
    "    Z=b0+b1*X+b2*Y+b12*X*Y\n",
    "    fig=plt.figure(figsize=(14,8))\n",
    "    #contour plot\n",
    "    sub1=fig.add_subplot(221)\n",
    "    CS=plt.contour(X, Y, Z,6,colors='k',)\n",
    "    plt.clabel(CS,fontsize=9,inline=1)\n",
    "    plt.xlabel('x1')\n",
    "    plt.ylabel('x2')\n",
    "    plt.title('Contour Plot')\n",
    "    # 3-d Plot\n",
    "    sub2=fig.add_subplot(222,projection='3d')\n",
    "    sub2.plot_wireframe(X,Y,Z)\n",
    "    plt.xlabel('x1')\n",
    "    plt.ylabel('x2')\n",
    "    plt.title('3D Plot')\n",
    "    # main effect \n",
    "    sub3=fig.add_subplot(223)\n",
    "    xvalues=[-2.0,2.0]\n",
    "    y_x1=[b0+b1*xvalues[0],b0+b1*xvalues[1]]\n",
    "    y_x2=[b0+b2*xvalues[0],b0+b2*xvalues[1]]\n",
    "    plt.plot(xvalues,y_x1)    \n",
    "    plt.plot(xvalues,y_x2)\n",
    "    plt.title('Main Effects Plot')\n",
    "    plt.xlabel('Factor Setting')\n",
    "    plt.ylabel('y')\n",
    "    plt.legend(('x1','x2'),loc='best')\n",
    "    #\n",
    "    sub4=fig.add_subplot(224)\n",
    "    y_lo=[b0+b1*xvalues[0]+b2*xvalues[0]+b12*xvalues[0]*xvalues[0],b0+b1*xvalues[1]+b2*xvalues[0]+b12*xvalues[1]*xvalues[0]]\n",
    "    y_hi=[b0+b1*xvalues[0]+b2*xvalues[1]+b12*xvalues[0]*xvalues[1],b0+b1*xvalues[1]+b2*xvalues[1]+b12*xvalues[1]*xvalues[1]]\n",
    "    plt.plot(xvalues,y_lo)\n",
    "    plt.plot(xvalues,y_hi)\n",
    "    plt.title('Interactions Plot')\n",
    "    plt.xlabel('x1')\n",
    "    plt.legend(('x2-low','x2-high'),loc='best')\n",
    "    #\n",
    "    plt.tight_layout(pad=0.6)\n",
    "    plt.show()\n",
    "b0_s=FloatSlider(min=-5.0,max=5.0,step=0.1,value=0.0)\n",
    "x1_s=FloatSlider(min=-5.0,max=5.0,step=0.1,value=0.0)\n",
    "x2_s=FloatSlider(min=-5.0,max=5.0,step=0.1,value=0.0)\n",
    "b12_s=FloatSlider(min=-5.0,max=5.0,step=0.1,value=0.0)\n",
    "ip = interactive(f,b0=b0_s,b1=x1_s,b2=x2_s,b12=b12_s)\n",
    "#display(HBox(ip.children[:-1])) # show all controls\n",
    "#display(ip.children[-1])#show the output\n",
    "display(b0_s)\n",
    "display(x1_s)\n",
    "display(x2_s)\n",
    "display(b12_s)\n",
    "display(ip.children[-1])"
   ]
  },
  {
   "cell_type": "code",
   "execution_count": null,
   "metadata": {},
   "outputs": [],
   "source": []
  },
  {
   "cell_type": "code",
   "execution_count": null,
   "metadata": {},
   "outputs": [],
   "source": []
  }
 ],
 "metadata": {
  "kernelspec": {
   "display_name": "Python 3",
   "language": "python",
   "name": "python3"
  },
  "language_info": {
   "codemirror_mode": {
    "name": "ipython",
    "version": 3
   },
   "file_extension": ".py",
   "mimetype": "text/x-python",
   "name": "python",
   "nbconvert_exporter": "python",
   "pygments_lexer": "ipython3",
   "version": "3.7.3"
  }
 },
 "nbformat": 4,
 "nbformat_minor": 2
}
