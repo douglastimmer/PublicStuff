{
 "cells": [
  {
   "cell_type": "markdown",
   "metadata": {},
   "source": [
    "# Standard Normal Case 4\n",
    "This application finds the value $w$ such that probability $P(Z<w)=\\alpha$ for the standard normal distribution."
   ]
  },
  {
   "cell_type": "code",
   "execution_count": 2,
   "metadata": {},
   "outputs": [
    {
     "data": {
      "image/png": "[encoded data removed]",
      "text/plain": [
       "<matplotlib.figure.Figure at 0x1450ff22d68>"
      ]
     },
     "metadata": {},
     "output_type": "display_data"
    },
    {
     "name": "stdout",
     "output_type": "stream",
     "text": [
      "answer without rounding=1.036433\n",
      "answer using textbook tables=1.040000\n"
     ]
    }
   ],
   "source": [
    "import matplotlib.pyplot as plt\n",
    "import numpy as np\n",
    "import scipy.stats as sct\n",
    "import math\n",
    "def roundOff(x,e):\n",
    "    return math.floor(x*10**e+.5)/(10**e)\n",
    "\n",
    "alpha=0.85\n",
    "\n",
    "x=np.linspace(-4,4,500)\n",
    "y=sct.norm.pdf(x,0,1)\n",
    "y2=0.0*x\n",
    "y3=sct.norm.cdf(x,0,1)\n",
    "maske = (y3<alpha)\n",
    "\n",
    "plt.plot(x,y,'b')\n",
    "plt.fill_between(x,y,color='#666666',where=maske)\n",
    "plt.plot(x,y2,'b')\n",
    "plt.show()\n",
    "\n",
    "w=sct.norm.ppf(alpha,0,1)\n",
    "wR=roundOff(w,2)\n",
    "print (\"answer without rounding=%8.6f\" % (w))\n",
    "print (\"answer using textbook tables=%8.6f\" % (wR))\n"
   ]
  },
  {
   "cell_type": "code",
   "execution_count": null,
   "metadata": {
    "collapsed": true
   },
   "outputs": [],
   "source": []
  },
  {
   "cell_type": "code",
   "execution_count": null,
   "metadata": {
    "collapsed": true
   },
   "outputs": [],
   "source": []
  }
 ],
 "metadata": {
  "kernelspec": {
   "display_name": "Python 3",
   "language": "python",
   "name": "python3"
  },
  "language_info": {
   "codemirror_mode": {
    "name": "ipython",
    "version": 3
   },
   "file_extension": ".py",
   "mimetype": "text/x-python",
   "name": "python",
   "nbconvert_exporter": "python",
   "pygments_lexer": "ipython3",
   "version": "3.6.1"
  }
 },
 "nbformat": 4,
 "nbformat_minor": 2
}
