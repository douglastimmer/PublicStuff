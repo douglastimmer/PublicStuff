{
 "cells": [
  {
   "cell_type": "markdown",
   "metadata": {},
   "source": [
    "# Standard Normal Case 3\n",
    "This application calculates the probability $P(a<Z<b)$ for the standard normal distribution."
   ]
  },
  {
   "cell_type": "code",
   "execution_count": 1,
   "metadata": {},
   "outputs": [
    {
     "data": {
      "image/png": "[encoded data removed]",
      "text/plain": [
       "<matplotlib.figure.Figure at 0x24db9ffa3c8>"
      ]
     },
     "metadata": {},
     "output_type": "display_data"
    },
    {
     "name": "stdout",
     "output_type": "stream",
     "text": [
      "0.122479\n"
     ]
    }
   ],
   "source": [
    "import matplotlib.pyplot as plt\n",
    "import numpy as np\n",
    "import scipy.stats as sct\n",
    "import math\n",
    "\n",
    "def roundOff(x,e):\n",
    "    return math.floor(x*10**e+.5)/(10**e)\n",
    "\n",
    "a=0.42\n",
    "b=0.79\n",
    "# add logic later to ensure that a<b\n",
    "\n",
    "x=np.linspace(-4,4,500)\n",
    "y=sct.norm.pdf(x,0,1)\n",
    "y2=0.0*x\n",
    "maske=(x>a) & (x<b)\n",
    "\n",
    "plt.plot(x,y,'b')\n",
    "plt.fill_between(x,y,color='#666666',where=maske)\n",
    "plt.plot(x,y2,'b')\n",
    "plt.show()\n",
    "\n",
    "answer=sct.norm.cdf(b,0,1)-sct.norm.cdf(a,0,1)\n",
    "print (\"%8.6f\" % (answer))"
   ]
  },
  {
   "cell_type": "code",
   "execution_count": null,
   "metadata": {
    "collapsed": true
   },
   "outputs": [],
   "source": []
  }
 ],
 "metadata": {
  "kernelspec": {
   "display_name": "Python 3",
   "language": "python",
   "name": "python3"
  },
  "language_info": {
   "codemirror_mode": {
    "name": "ipython",
    "version": 3
   },
   "file_extension": ".py",
   "mimetype": "text/x-python",
   "name": "python",
   "nbconvert_exporter": "python",
   "pygments_lexer": "ipython3",
   "version": "3.6.1"
  }
 },
 "nbformat": 4,
 "nbformat_minor": 2
}
