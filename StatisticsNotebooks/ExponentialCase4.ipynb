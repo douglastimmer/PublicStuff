{
 "cells": [
  {
   "cell_type": "markdown",
   "metadata": {},
   "source": [
    "# Exponential Distribution Case 4\n",
    "This application applies to the exponential distribution with pdf defined to be $f(x)=\\lambda e^{-\\lambda x}$ where $x>0$ and $\\lambda>0$. Case 4 finds the value of z such that $P(X<z)=\\alpha$."
   ]
  },
  {
   "cell_type": "code",
   "execution_count": 1,
   "metadata": {},
   "outputs": [
    {
     "data": {
      "image/png": "[encoded data removed]",
      "text/plain": [
       "<matplotlib.figure.Figure at 0x16160df50b8>"
      ]
     },
     "metadata": {},
     "output_type": "display_data"
    },
    {
     "name": "stdout",
     "output_type": "stream",
     "text": [
      "0.006184\n"
     ]
    }
   ],
   "source": [
    "import matplotlib.pyplot as plt\n",
    "import numpy as np\n",
    "import scipy.stats as sct\n",
    "import math\n",
    "\n",
    "z=0.2\n",
    "alpha=0.253\n",
    "l=47.169 #using l instead of lambda\n",
    "mu=1.0/l\n",
    "variance=1/(l*l)\n",
    "sigma=math.sqrt(variance)\n",
    "\n",
    "\n",
    "\n",
    "x=np.linspace(0.01,5*sigma,500)\n",
    "y=sct.expon.pdf(x,0,1.0/l)\n",
    "y2=0.0*x\n",
    "y3=sct.expon.cdf(x,0,1.0/l)\n",
    "maske =(y3<alpha)\n",
    "\n",
    "plt.plot(x,y,'b')\n",
    "plt.fill_between(x,y,color='#666666',where=maske)\n",
    "plt.plot(x,y2,'b')\n",
    "plt.show()\n",
    "\n",
    "answer=sct.expon.ppf(alpha,0,1.0/l)\n",
    "print (\"%8.6f\" % (answer))"
   ]
  },
  {
   "cell_type": "code",
   "execution_count": null,
   "metadata": {
    "collapsed": true
   },
   "outputs": [],
   "source": []
  }
 ],
 "metadata": {
  "kernelspec": {
   "display_name": "Python 3",
   "language": "python",
   "name": "python3"
  },
  "language_info": {
   "codemirror_mode": {
    "name": "ipython",
    "version": 3
   },
   "file_extension": ".py",
   "mimetype": "text/x-python",
   "name": "python",
   "nbconvert_exporter": "python",
   "pygments_lexer": "ipython3",
   "version": "3.6.1"
  }
 },
 "nbformat": 4,
 "nbformat_minor": 2
}
