{
 "cells": [
  {
   "cell_type": "markdown",
   "metadata": {
    "hideCode": true,
    "slideshow": {
     "slide_type": "slide"
    }
   },
   "source": [
    "# Type II Error for Lower One-sided Hypothesis Test for Mean of Normal Distribution with Variance Unknown\n",
    "\n",
    "### by Douglas Timmer\n",
    "\n",
    "This presentation demonstrates the the classical approach and p-value approach to conducting a lower one-sided hypothesis test for the mean with variance unknown. Jupyter notebooks utilize Python."
   ]
  },
  {
   "cell_type": "code",
   "execution_count": 1,
   "metadata": {
    "hideCode": false,
    "slideshow": {
     "slide_type": "slide"
    }
   },
   "outputs": [
    {
     "data": {
      "text/html": [
       "<h1>Step 0. Provide the information for the problem and the value of alpha"
      ],
      "text/plain": [
       "<IPython.core.display.HTML object>"
      ]
     },
     "metadata": {},
     "output_type": "display_data"
    }
   ],
   "source": [
    "#specify values for hypothesis test\n",
    "from IPython.display import Image,display,Latex, HTML\n",
    "import math\n",
    "import scipy.stats as stat\n",
    "import numpy as np\n",
    "import matplotlib.pyplot as plt\n",
    "def roundOff(x,e):\n",
    "    return math.floor(x*10**e+.5)/(10**e)\n",
    "#Example from another textbook\n",
    "mu_0=180\n",
    "s=5.7\n",
    "n=int(5)\n",
    "mu=170\n",
    "alpha=0.01\n",
    "display(HTML(\"<h1>Step 0. Provide the information for the problem and the value of alpha\"))\n",
    "#display(Latex(r\"\"\"$$\\mbox{Facts:}\\,\\bar{x}=%f,\\, S=%f,\\,n=%d,\\, \\alpha=%f,\\,\\mu_0=%f.$$\"\"\"%(xbar,s,n,alpha,mu_0)))"
   ]
  },
  {
   "cell_type": "code",
   "execution_count": 2,
   "metadata": {},
   "outputs": [
    {
     "data": {
      "text/html": [
       "<h1>Step 1. Solve using the non-central t-distribution"
      ],
      "text/plain": [
       "<IPython.core.display.HTML object>"
      ]
     },
     "metadata": {},
     "output_type": "display_data"
    },
    {
     "name": "stdout",
     "output_type": "stream",
     "text": [
      "4\n",
      "-3.74694738798\n",
      "-3.9229262763154207\n",
      "0.390611499385\n"
     ]
    }
   ],
   "source": [
    "display(HTML(\"<h1>Step 1. Solve using the non-central t-distribution\"))\n",
    "nM1=n-1\n",
    "print(nM1)\n",
    "t_critical=stat.t.ppf(alpha,nM1)\n",
    "print(t_critical)\n",
    "d=(mu-mu_0)/(s/math.sqrt(n))\n",
    "print(d)\n",
    "beta=1.0-stat.nct.cdf(t_critical,nM1,d)\n",
    "print(beta)"
   ]
  },
  {
   "cell_type": "code",
   "execution_count": 3,
   "metadata": {},
   "outputs": [
    {
     "data": {
      "text/html": [
       "<h1> Type II error calculation using OC Curve"
      ],
      "text/plain": [
       "<IPython.core.display.HTML object>"
      ]
     },
     "metadata": {},
     "output_type": "display_data"
    },
    {
     "name": "stdout",
     "output_type": "stream",
     "text": [
      "-3.9229262763154207\n"
     ]
    },
    {
     "data": {
      "image/png": "[encoded data removed]",
      "text/plain": [
       "<matplotlib.figure.Figure at 0x17767c09320>"
      ]
     },
     "metadata": {},
     "output_type": "display_data"
    }
   ],
   "source": [
    "display(HTML(\"<h1> Type II error calculation using OC Curve\"))\n",
    "dx=np.linspace(-8,1,500)\n",
    "oc=1.0*dx\n",
    "for y in np.nditer(oc, op_flags=['readwrite']):\n",
    "    y[...]=1.0-stat.nct.cdf(t_critical,nM1,y)\n",
    "print(d)\n",
    "#\n",
    "plt.close(\"all\")\n",
    "plt.subplot(3,1,1)\n",
    "plt.plot(dx,oc,'b')\n",
    "plt.title('Select correct curve')\n",
    "plt.ylabel('beta')\n",
    "plt.ylim((0,1))\n",
    "plt.subplot(3,1,2)\n",
    "plt.title('add verticle line from d to OC curve')\n",
    "plt.plot(dx,oc,'b')\n",
    "plt.plot((d,d),(0,beta),'b') #\n",
    "plt.ylabel('beta')\n",
    "plt.ylim((0,1))\n",
    "plt.subplot(3,1,3)\n",
    "plt.title('add horizontal line from intersection of d and OC curve to y-axis and read beta')\n",
    "plt.ylabel('beta')\n",
    "plt.xlabel('d')\n",
    "plt.plot(dx,oc,'b')\n",
    "plt.plot((d,d),(0,beta),'b') #\n",
    "plt.plot((d,-8),(beta,beta),'b')\n",
    "plt.tight_layout()\n",
    "plt.show()"
   ]
  },
  {
   "cell_type": "code",
   "execution_count": null,
   "metadata": {},
   "outputs": [],
   "source": []
  }
 ],
 "metadata": {
  "celltoolbar": "Hide code",
  "kernelspec": {
   "display_name": "Python 3",
   "language": "python",
   "name": "python3"
  },
  "language_info": {
   "codemirror_mode": {
    "name": "ipython",
    "version": 3
   },
   "file_extension": ".py",
   "mimetype": "text/x-python",
   "name": "python",
   "nbconvert_exporter": "python",
   "pygments_lexer": "ipython3",
   "version": "3.6.1"
  }
 },
 "nbformat": 4,
 "nbformat_minor": 2
}
