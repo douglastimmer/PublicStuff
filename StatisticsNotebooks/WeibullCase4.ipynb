{
 "cells": [
  {
   "cell_type": "markdown",
   "metadata": {},
   "source": [
    "## Weibull Distribution Case 4\n",
    "This application applies to the Weibull distribution with pdf defined to be $f(x)=\\frac{\\beta}{\\delta}\\left(\\frac{x}{\\delta}\\right)^{\\beta-1}\\exp\\left[-\\left(\\frac{x}{\\delta}\\right)^\\beta\\right]$ where $x>0$, $\\beta>0$, and $\\delta>0$. Case 4 finds the value y such that $P(X<y)=\\alpha$."
   ]
  },
  {
   "cell_type": "code",
   "execution_count": 5,
   "metadata": {},
   "outputs": [
    {
     "data": {
      "image/png": "[encoded data removed]",
      "text/plain": [
       "<matplotlib.figure.Figure at 0x14d1f0a2e48>"
      ]
     },
     "metadata": {},
     "output_type": "display_data"
    },
    {
     "name": "stdout",
     "output_type": "stream",
     "text": [
      "147.690701\n"
     ]
    }
   ],
   "source": [
    "import matplotlib.pyplot as plt\n",
    "import numpy as np\n",
    "import scipy.stats as sct\n",
    "import math\n",
    "\n",
    "def pdf(x,b,d):\n",
    "    return (b/d)*(x/d)**(b-1)*math.exp(-1.0*(x/d)**b)\n",
    "def cdf(x,b,d):\n",
    "    return 1.0 - math.exp(-1.0*(x/d)**b)\n",
    "def ppf(a,b,d):\n",
    "    return d*(-1.0*math.log(1-a))**(1.0/b)\n",
    "\n",
    "alpha=0.9\n",
    "beta=5.0\n",
    "delta=125.0\n",
    "\n",
    "variance=(delta**2.0)*math.gamma(1.0+2.0/beta) - (delta**2.0)*(math.gamma(1.0+1.0/beta))**2.0\n",
    "sigma=variance**0.5\n",
    "\n",
    "x=np.linspace(0.01,10*sigma,500)\n",
    "y=0.0*x\n",
    "y3=0.0*x\n",
    "for index, q in np.ndenumerate(x):\n",
    "    y[index]=pdf(x[index],beta,delta)\n",
    "    y3[index]=cdf(x[index],beta,delta)\n",
    "y2=0.0*x\n",
    "maske =(y3<alpha)\n",
    "\n",
    "plt.plot(x,y,'b')\n",
    "plt.fill_between(x,y,color='#666666',where=maske)\n",
    "plt.plot(x,y2,'b')\n",
    "plt.show()\n",
    "\n",
    "answer=ppf(alpha,beta,delta)\n",
    "print (\"%8.6f\" % (answer))"
   ]
  },
  {
   "cell_type": "code",
   "execution_count": null,
   "metadata": {},
   "outputs": [],
   "source": []
  },
  {
   "cell_type": "code",
   "execution_count": null,
   "metadata": {},
   "outputs": [],
   "source": []
  }
 ],
 "metadata": {
  "kernelspec": {
   "display_name": "Python 3",
   "language": "python",
   "name": "python3"
  },
  "language_info": {
   "codemirror_mode": {
    "name": "ipython",
    "version": 3
   },
   "file_extension": ".py",
   "mimetype": "text/x-python",
   "name": "python",
   "nbconvert_exporter": "python",
   "pygments_lexer": "ipython3",
   "version": "3.6.4"
  }
 },
 "nbformat": 4,
 "nbformat_minor": 2
}
