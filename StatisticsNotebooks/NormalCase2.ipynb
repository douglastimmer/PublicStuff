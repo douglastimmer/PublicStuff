{
 "cells": [
  {
   "cell_type": "markdown",
   "metadata": {},
   "source": [
    "# Normal Case 2\n",
    "This application calculates the probability $P(X>b)$ for the normal distribution distribution with mean $\\mu$ and standard deviation $\\sigma$."
   ]
  },
  {
   "cell_type": "code",
   "execution_count": 1,
   "metadata": {},
   "outputs": [
    {
     "data": {
      "image/png": "[encoded data removed]",
      "text/plain": [
       "<matplotlib.figure.Figure at 0x1fcce9ecba8>"
      ]
     },
     "metadata": {},
     "output_type": "display_data"
    },
    {
     "name": "stdout",
     "output_type": "stream",
     "text": [
      "z=-1.954335\n",
      "answer without rounding=0.974669\n",
      "zr=-1.950000\n",
      "answer using tables=0.974412\n"
     ]
    }
   ],
   "source": [
    "import matplotlib.pyplot as plt\n",
    "import numpy as np\n",
    "import scipy.stats as sct\n",
    "import math\n",
    "def roundOff(x,e):\n",
    "    return math.floor(x*10**e+.5)/(10**e)\n",
    "\n",
    "\n",
    "b=454.61\n",
    "mu=543.2\n",
    "variance=2054.8089\n",
    "sigma=math.sqrt(variance)\n",
    "\n",
    "x=np.linspace(mu-4*sigma,mu+4*sigma,500)\n",
    "y=sct.norm.pdf(x,mu,sigma)\n",
    "y2=0.0*x\n",
    "maske=(x>b)\n",
    "\n",
    "plt.plot(x,y,'b')\n",
    "plt.fill_between(x,y,color='#666666',where=maske)\n",
    "plt.plot(x,y2,'b')\n",
    "plt.show()\n",
    "\n",
    "z=(b-mu)/sigma\n",
    "zr=roundOff(z,2)\n",
    "\n",
    "answer=1.0-sct.norm.cdf(z,0,1)\n",
    "answerR=1.0-sct.norm.cdf(zr,0,1)\n",
    "\n",
    "print (\"z=%8.6f\" % (z))\n",
    "print (\"answer without rounding=%8.6f\" % (answer))\n",
    "\n",
    "print(\"zr=%8.6f\" % (zr))\n",
    "print(\"answer using tables=%8.6f\" % (answerR))"
   ]
  },
  {
   "cell_type": "code",
   "execution_count": null,
   "metadata": {},
   "outputs": [],
   "source": []
  }
 ],
 "metadata": {
  "kernelspec": {
   "display_name": "Python 3",
   "language": "python",
   "name": "python3"
  },
  "language_info": {
   "codemirror_mode": {
    "name": "ipython",
    "version": 3
   },
   "file_extension": ".py",
   "mimetype": "text/x-python",
   "name": "python",
   "nbconvert_exporter": "python",
   "pygments_lexer": "ipython3",
   "version": "3.6.1"
  }
 },
 "nbformat": 4,
 "nbformat_minor": 2
}
