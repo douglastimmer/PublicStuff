{
 "cells": [
  {
   "cell_type": "markdown",
   "metadata": {},
   "source": [
    "# Normal Case 4\n",
    "This application finds the value $w$ such that probability $P(Z<w)=\\alpha$ for the normal distribution with mean $\\mu$ and standard deviation $\\sigma$."
   ]
  },
  {
   "cell_type": "code",
   "execution_count": 2,
   "metadata": {},
   "outputs": [
    {
     "data": {
      "image/png": "[encoded data removed]",
      "text/plain": [
       "<matplotlib.figure.Figure at 0x2664c643748>"
      ]
     },
     "metadata": {},
     "output_type": "display_data"
    },
    {
     "name": "stdout",
     "output_type": "stream",
     "text": [
      "answer without rounding=238.867284\n",
      "answer using textbook tables=238.873400\n"
     ]
    }
   ],
   "source": [
    "import matplotlib.pyplot as plt\n",
    "import numpy as np\n",
    "import scipy.stats as sct\n",
    "import math\n",
    "def roundOff(x,e):\n",
    "    return math.floor(x*10**e+.5)/(10**e)\n",
    "\n",
    "alpha=0.206\n",
    "mu=252.1\n",
    "variance=260.1769\n",
    "sigma=math.sqrt(variance)\n",
    "\n",
    "x=np.linspace(mu-4*sigma,mu+4*sigma,500)\n",
    "y=sct.norm.pdf(x,mu,sigma)\n",
    "y2=0.0*x\n",
    "y3=sct.norm.cdf(x,mu,sigma)\n",
    "maske = (y3<alpha)\n",
    "\n",
    "plt.plot(x,y,'b')\n",
    "plt.fill_between(x,y,color='#666666',where=maske)\n",
    "plt.plot(x,y2,'b')\n",
    "plt.show()\n",
    "\n",
    "zScore=sct.norm.ppf(alpha,0,1)\n",
    "zScoreR=roundOff(zScore,2)\n",
    "\n",
    "w=mu+sigma*zScore\n",
    "wr=mu+sigma*zScoreR\n",
    "\n",
    "print (\"answer without rounding=%8.6f\" % (w))\n",
    "print (\"answer using textbook tables=%8.6f\" % (wr))"
   ]
  },
  {
   "cell_type": "code",
   "execution_count": null,
   "metadata": {
    "collapsed": true
   },
   "outputs": [],
   "source": []
  },
  {
   "cell_type": "code",
   "execution_count": null,
   "metadata": {
    "collapsed": true
   },
   "outputs": [],
   "source": []
  }
 ],
 "metadata": {
  "kernelspec": {
   "display_name": "Python 3",
   "language": "python",
   "name": "python3"
  },
  "language_info": {
   "codemirror_mode": {
    "name": "ipython",
    "version": 3
   },
   "file_extension": ".py",
   "mimetype": "text/x-python",
   "name": "python",
   "nbconvert_exporter": "python",
   "pygments_lexer": "ipython3",
   "version": "3.6.1"
  }
 },
 "nbformat": 4,
 "nbformat_minor": 2
}
