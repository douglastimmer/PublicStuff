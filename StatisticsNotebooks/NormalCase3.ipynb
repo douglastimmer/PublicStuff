{
 "cells": [
  {
   "cell_type": "markdown",
   "metadata": {},
   "source": [
    "# Normal Case \n",
    "This application calculates the probability $P(a<X<b)$ for the normal distribution distribution with mean $\\mu$ and standard deviation $\\sigma$."
   ]
  },
  {
   "cell_type": "code",
   "execution_count": 1,
   "metadata": {},
   "outputs": [
    {
     "data": {
      "image/png": "[encoded data removed]",
      "text/plain": [
       "<matplotlib.figure.Figure at 0x23954fdc390>"
      ]
     },
     "metadata": {},
     "output_type": "display_data"
    },
    {
     "name": "stdout",
     "output_type": "stream",
     "text": [
      "answer without rounding=0.165860\n",
      "answer using textbook=0.164840\n"
     ]
    }
   ],
   "source": [
    "import matplotlib.pyplot as plt\n",
    "import numpy as np\n",
    "import scipy.stats as sct\n",
    "import math\n",
    "def roundOff(x,e):\n",
    "    return math.floor(x*10**e+.5)/(10**e)\n",
    "\n",
    "a=649.81\n",
    "b=877.61\n",
    "mu=1068.2\n",
    "variance=49550.76\n",
    "sigma=math.sqrt(variance)\n",
    "#later check that a<b\n",
    "\n",
    "x=np.linspace(mu-4*sigma,mu+4*sigma,500)\n",
    "y=sct.norm.pdf(x,mu,sigma)\n",
    "y2=0.0*x\n",
    "maske=(x>a) & (x<b)\n",
    "\n",
    "plt.plot(x,y,'b')\n",
    "plt.fill_between(x,y,color='#666666',where=maske)\n",
    "plt.plot(x,y2,'b')\n",
    "plt.show()\n",
    "z1=(b-mu)/sigma\n",
    "z2=(a-mu)/sigma\n",
    "z1r=roundOff(z1,2)\n",
    "z2r=roundOff(z2,3)\n",
    "answer=sct.norm.cdf(z1,0,1)-sct.norm.cdf(z2,0,1)\n",
    "answerR=sct.norm.cdf(z1r,0,1)-sct.norm.cdf(z2r,0,1)\n",
    "print (\"answer without rounding=%8.6f\" % (answer))\n",
    "print (\"answer using textbook=%8.6f\" % (answerR))"
   ]
  },
  {
   "cell_type": "code",
   "execution_count": null,
   "metadata": {
    "collapsed": true
   },
   "outputs": [],
   "source": []
  },
  {
   "cell_type": "code",
   "execution_count": null,
   "metadata": {
    "collapsed": true
   },
   "outputs": [],
   "source": []
  }
 ],
 "metadata": {
  "kernelspec": {
   "display_name": "Python 3",
   "language": "python",
   "name": "python3"
  },
  "language_info": {
   "codemirror_mode": {
    "name": "ipython",
    "version": 3
   },
   "file_extension": ".py",
   "mimetype": "text/x-python",
   "name": "python",
   "nbconvert_exporter": "python",
   "pygments_lexer": "ipython3",
   "version": "3.6.1"
  }
 },
 "nbformat": 4,
 "nbformat_minor": 2
}
