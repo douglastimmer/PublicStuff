{
 "cells": [
  {
   "cell_type": "markdown",
   "metadata": {
    "hideCode": true,
    "slideshow": {
     "slide_type": "slide"
    }
   },
   "source": [
    "# Two-sided Hypothesis Test for the Variance of a Normal\n",
    "\n",
    "### by Douglas Timmer\n",
    "\n",
    "This presentation demonstrates the the classical approach and p-value approach to conducting a two-sided hypothesis test for the variance or standard deviation of a normal distribution. Jupyter notebooks utilize Python."
   ]
  },
  {
   "cell_type": "code",
   "execution_count": 3,
   "metadata": {
    "hideCode": false,
    "slideshow": {
     "slide_type": "slide"
    }
   },
   "outputs": [
    {
     "data": {
      "text/html": [
       "<h1>Step 0. Provide the information for the problem and the value of alpha"
      ],
      "text/plain": [
       "<IPython.core.display.HTML object>"
      ]
     },
     "metadata": {},
     "output_type": "display_data"
    },
    {
     "data": {
      "text/latex": [
       "$$\\mbox{Facts:}\\,S=0.008300,\\,n=15,\\, \\alpha=0.050000,\\,\\sigma_0=0.010000.$$"
      ],
      "text/plain": [
       "<IPython.core.display.Latex object>"
      ]
     },
     "metadata": {},
     "output_type": "display_data"
    }
   ],
   "source": [
    "#specify values for hypothesis test\n",
    "from IPython.display import Image,display,Latex, HTML\n",
    "import math\n",
    "import scipy.stats as stat\n",
    "def roundOff(x,e):\n",
    "    return math.floor(x*10**e+.5)/(10**e)\n",
    "#Problem 9.84\n",
    "sigma_0=.01\n",
    "s=0.0083\n",
    "n=int(15)\n",
    "alpha=0.05\n",
    "display(HTML(\"<h1>Step 0. Provide the information for the problem and the value of alpha\"))\n",
    "display(Latex(r\"\"\"$$\\mbox{Facts:}\\,S=%f,\\,n=%d,\\, \\alpha=%f,\\,\\sigma_0=%f.$$\"\"\"%(s,n,alpha,sigma_0)))"
   ]
  },
  {
   "cell_type": "code",
   "execution_count": 4,
   "metadata": {
    "hideCode": false,
    "slideshow": {
     "slide_type": "slide"
    }
   },
   "outputs": [
    {
     "data": {
      "text/html": [
       "<h1>Step 1. Select the Correct Procedure</h1>"
      ],
      "text/plain": [
       "<IPython.core.display.HTML object>"
      ]
     },
     "metadata": {},
     "output_type": "display_data"
    },
    {
     "data": {
      "text/latex": [
       "Use the top line ($H_1:\\,\\sigma^2\\neq\\sigma^2_0$) of Case 3"
      ],
      "text/plain": [
       "<IPython.core.display.Latex object>"
      ]
     },
     "metadata": {},
     "output_type": "display_data"
    }
   ],
   "source": [
    "display(HTML(\"<h1>Step 1. Select the Correct Procedure</h1>\"))\n",
    "display(Latex(r\"\"\"Use the top line ($H_1:\\,\\sigma^2\\neq\\sigma^2_0$) of Case 3\"\"\"))\n"
   ]
  },
  {
   "cell_type": "code",
   "execution_count": 5,
   "metadata": {
    "hideCode": false,
    "slideshow": {
     "slide_type": "slide"
    }
   },
   "outputs": [
    {
     "data": {
      "text/html": [
       "<h2>Step 2. Define null and research hypotheses</h2>"
      ],
      "text/plain": [
       "<IPython.core.display.HTML object>"
      ]
     },
     "metadata": {},
     "output_type": "display_data"
    },
    {
     "data": {
      "text/latex": [
       "$H_0:\\sigma=   0.01$"
      ],
      "text/plain": [
       "<IPython.core.display.Latex object>"
      ]
     },
     "metadata": {},
     "output_type": "display_data"
    },
    {
     "data": {
      "text/latex": [
       "$H_1:\\sigma\\neq   0.01$"
      ],
      "text/plain": [
       "<IPython.core.display.Latex object>"
      ]
     },
     "metadata": {},
     "output_type": "display_data"
    }
   ],
   "source": [
    "display(HTML(\"<h2>Step 2. Define null and research hypotheses</h2>\"))\n",
    "display(Latex(r\"\"\"$H_0:\\sigma=%7.2f$\"\"\"%(sigma_0)))\n",
    "display(Latex(r\"\"\"$H_1:\\sigma\\neq%7.2f$\"\"\"%(sigma_0)))"
   ]
  },
  {
   "cell_type": "code",
   "execution_count": 6,
   "metadata": {
    "hideCode": false,
    "scrolled": true,
    "slideshow": {
     "slide_type": "slide"
    }
   },
   "outputs": [
    {
     "data": {
      "text/html": [
       "<h2>Step 3. Calculate the test statistic</h2>"
      ],
      "text/plain": [
       "<IPython.core.display.HTML object>"
      ]
     },
     "metadata": {},
     "output_type": "display_data"
    },
    {
     "data": {
      "text/latex": [
       "$$\\chi^2_0=\\frac{\\left(n-1\\right)S^2}{\\sigma^2_0}=\\frac{\\left(15-1\\right)0.008300^2}{0.010000^2}=9.644600$$"
      ],
      "text/plain": [
       "<IPython.core.display.Latex object>"
      ]
     },
     "metadata": {},
     "output_type": "display_data"
    }
   ],
   "source": [
    "cs_0=((n-1)*s**2)/(sigma_0**2);\n",
    "display(HTML(\"<h2>Step 3. Calculate the test statistic</h2>\"))\n",
    "display(Latex(r\"\"\"$$\\chi^2_0=\\frac{\\left(n-1\\right)S^2}{\\sigma^2_0}=\\frac{\\left(%d-1\\right)%f^2}{%f^2}=%f$$\"\"\"%(n,s,sigma_0,cs_0)))"
   ]
  },
  {
   "cell_type": "code",
   "execution_count": 7,
   "metadata": {
    "hideCode": false,
    "slideshow": {
     "slide_type": "slide"
    }
   },
   "outputs": [
    {
     "data": {
      "text/html": [
       "<h2>Step 4. Define the rejection region</h2>"
      ],
      "text/plain": [
       "<IPython.core.display.HTML object>"
      ]
     },
     "metadata": {},
     "output_type": "display_data"
    },
    {
     "data": {
      "text/latex": [
       "$\\mbox{Reject }H_0\\mbox{ if }\\chi^2_0<\\chi^2_{1-\\alpha/2,n-1}=\\chi^2_{0.975000,14}=5.629000\\mbox{ or }\\chi^2_0>\\chi^2_{\\alpha/2,n-1}=\\chi^2_{0.025000,14}=26.119000$"
      ],
      "text/plain": [
       "<IPython.core.display.Latex object>"
      ]
     },
     "metadata": {},
     "output_type": "display_data"
    }
   ],
   "source": [
    "nMinus1=n-1\n",
    "cs_lower=stat.chi2.ppf(alpha/2.0,nMinus1)\n",
    "cs_upper=stat.chi2.ppf(1.0-alpha/2.0,nMinus1)\n",
    "cs_lower_R=roundOff(cs_lower,3)\n",
    "cs_upper_R=roundOff(cs_upper,3)\n",
    "display(HTML(\"<h2>Step 4. Define the rejection region</h2>\"))\n",
    "display(Latex(r\"\"\"$\\mbox{Reject }H_0\\mbox{ if }\\chi^2_0<\\chi^2_{1-\\alpha/2,n-1}=\\chi^2_{%f,%d}=%f\\mbox{ or }\\chi^2_0>\\chi^2_{\\alpha/2,n-1}=\\chi^2_{%f,%d}=%f$\"\"\"%(1-alpha/2.0,nMinus1,cs_lower_R,alpha/2.0,nMinus1,cs_upper_R)))\n"
   ]
  },
  {
   "cell_type": "code",
   "execution_count": 8,
   "metadata": {
    "hideCode": false,
    "slideshow": {
     "slide_type": "slide"
    }
   },
   "outputs": [
    {
     "data": {
      "text/html": [
       "<h2>Step 5. Evaluate the rejection region and state the conclusion</h2>"
      ],
      "text/plain": [
       "<IPython.core.display.HTML object>"
      ]
     },
     "metadata": {},
     "output_type": "display_data"
    },
    {
     "data": {
      "text/latex": [
       "Since the value of the test statistic, $\\chi^2_0=$9.644600, is not within the rejection region, the conclusion of the hypothesis test is fail to reject $H_0$. There is not sufficient statistical evidence at significance level of 0.050000  that $\\sigma$ is different from 0.010000."
      ],
      "text/plain": [
       "<IPython.core.display.Latex object>"
      ]
     },
     "metadata": {},
     "output_type": "display_data"
    }
   ],
   "source": [
    "cString=\"\"\n",
    "if cs_0<cs_lower or cs_0>cs_upper:\n",
    "    cString=\"Since the value of the test statistic, $\\chi^2_0=$%f, is in the rejection rejection region, the conclusion of the hypothesis test is to reject $H_0$. There is sufficient statistical evidence at a significance level of %f, that $\\sigma$ is different from %f.\"%(cs_0,alpha,sigma_0)\n",
    "else:\n",
    "    cString=\"\"\"Since the value of the test statistic, $\\chi^2_0=$%f, is not within the rejection region, the conclusion of the hypothesis test is fail to reject $H_0$. There is not sufficient statistical evidence at significance level of %f  that $\\sigma$ is different from %f.\"\"\"%(cs_0,alpha,sigma_0)\n",
    "display(HTML(\"<h2>Step 5. Evaluate the rejection region and state the conclusion</h2>\"))\n",
    "display(Latex(r\"\"\"%s\"\"\"%(cString)))"
   ]
  },
  {
   "cell_type": "code",
   "execution_count": 9,
   "metadata": {
    "hideCode": false,
    "slideshow": {
     "slide_type": "slide"
    }
   },
   "outputs": [
    {
     "data": {
      "text/html": [
       "<h2>Step 6. Find the p-value</h2>"
      ],
      "text/plain": [
       "<IPython.core.display.HTML object>"
      ]
     },
     "metadata": {},
     "output_type": "display_data"
    },
    {
     "data": {
      "text/html": [
       "The exact p-value for the Chi-Squared test cannot found using the Chi-Squared table in your textbook. Your textbook can be used to place bounds on the p-value. Python has a function to evaluate the CDF of a Chi-Squared random variable."
      ],
      "text/plain": [
       "<IPython.core.display.HTML object>"
      ]
     },
     "metadata": {},
     "output_type": "display_data"
    },
    {
     "data": {
      "text/latex": [
       "$$p-value=0.424643$$"
      ],
      "text/plain": [
       "<IPython.core.display.Latex object>"
      ]
     },
     "metadata": {},
     "output_type": "display_data"
    },
    {
     "data": {
      "text/latex": [
       "Since the p-value is NOT less than alpha, we fail to reject the null hypothesis and conclude that there is not sufficient statistical evidence that the standard deviation is different from 0.010000 at a signficance level of 0.050000."
      ],
      "text/plain": [
       "<IPython.core.display.Latex object>"
      ]
     },
     "metadata": {},
     "output_type": "display_data"
    }
   ],
   "source": [
    "#p_value=2.0*(1.0-stat.t.cdf(abs(t_0),nMinus1))\n",
    "if cs_0<stat.chi2.ppf(0.5,nMinus1):\n",
    "    p_value=2.0*stat.chi2.cdf(cs_0,nMinus1)\n",
    "else:\n",
    "    p_value=2.0*(1.0-stat.chi2.cdf(cs_0,nMinus1))    \n",
    "display(HTML(\"<h2>Step 6. Find the p-value</h2>\"))\n",
    "display(HTML(\"The exact p-value for the Chi-Squared test cannot found using the Chi-Squared table in your textbook. Your textbook can be used to place bounds on the p-value. Python has a function to evaluate the CDF of a Chi-Squared random variable.\"))\n",
    "display(Latex(r\"\"\"$$p-value=%f$$\"\"\"%(p_value)))\n",
    "if p_value<alpha:\n",
    "    cString=\"Since the p-value is less than alpha, we can reject the null hypothesis and conclude that the standard deviation is different from %f at a signficance level of %f\"%(sigma_0,alpha)\n",
    "else:\n",
    "    cString=\"Since the p-value is NOT less than alpha, we fail to reject the null hypothesis and conclude that there is not sufficient statistical evidence that the standard deviation is different from %f at a signficance level of %f.\"%(sigma_0,alpha)\n",
    "display(Latex(r\"\"\"%s\"\"\"%(cString)))"
   ]
  }
 ],
 "metadata": {
  "celltoolbar": "Hide code",
  "kernelspec": {
   "display_name": "Python 3",
   "language": "python",
   "name": "python3"
  },
  "language_info": {
   "codemirror_mode": {
    "name": "ipython",
    "version": 3
   },
   "file_extension": ".py",
   "mimetype": "text/x-python",
   "name": "python",
   "nbconvert_exporter": "python",
   "pygments_lexer": "ipython3",
   "version": "3.6.1"
  }
 },
 "nbformat": 4,
 "nbformat_minor": 2
}
