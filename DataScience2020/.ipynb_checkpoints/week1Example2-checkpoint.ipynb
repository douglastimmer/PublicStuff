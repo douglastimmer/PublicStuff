{
 "cells": [
  {
   "cell_type": "code",
   "execution_count": 1,
   "metadata": {},
   "outputs": [
    {
     "name": "stdout",
     "output_type": "stream",
     "text": [
      "Enter the total sample size: 120\n",
      "n= [2, 3, 4, 5, 6, 8, 10, 12, 15, 20, 24, 30, 40, 60]\n",
      "m= [60, 40, 30, 24, 20, 15, 12, 10, 8, 6, 5, 4, 3, 2]\n"
     ]
    }
   ],
   "source": [
    "import scipy.stats as stat\n",
    "import pandas as pd\n",
    "from IPython.display import Image,display,Latex, HTML\n",
    "N=int(input(\"Enter the total sample size: \"))\n",
    "n=[]\n",
    "m=[]\n",
    "for i in range(2,N//2+1):\n",
    "    if (N%i==0):\n",
    "        n.append(int(i))\n",
    "        m.append(int(N/i))\n",
    "print(\"n=\",n)\n",
    "print(\"m=\",m)"
   ]
  },
  {
   "cell_type": "code",
   "execution_count": 2,
   "metadata": {},
   "outputs": [
    {
     "name": "stdout",
     "output_type": "stream",
     "text": [
      "Enter the overall type I error rate (alpha-FAP): 0.05\n",
      "Enter the value of lambda for calculating type II error: 2.0\n"
     ]
    }
   ],
   "source": [
    "alpha_fap=float(input(\"Enter the overall type I error rate (alpha-FAP): \"))\n",
    "l=float(input(\"Enter the value of lambda for calculating type II error: \"))"
   ]
  },
  {
   "cell_type": "code",
   "execution_count": 3,
   "metadata": {},
   "outputs": [],
   "source": [
    "ub=[]\n",
    "lb=[]\n",
    "alpha_far=[]\n",
    "beta_far=[]\n",
    "beta_fap=[]\n",
    "for j in range(0,len(n)):\n",
    "    alpha_far.append(alpha_fap/m[j])\n",
    "    lb.append(stat.f.ppf(alpha_far[j]/2.0,n[j]-1,(n[j]-1)*(m[j]-1)))\n",
    "    ub.append(stat.f.ppf(1.0-alpha_far[j]/2.0,n[j]-1,(n[j]-1)*(m[j]-1)))\n",
    "    beta_far.append(stat.f.cdf(ub[j]/l,n[j]-1,(n[j]-1)*(m[j]-1))-stat.f.cdf(lb[j]/l,n[j]-1,(n[j]-1)*(m[j]-1)))\n",
    "    beta_fap.append(min(1.0,m[j]*beta_far[j]))"
   ]
  },
  {
   "cell_type": "code",
   "execution_count": 4,
   "metadata": {},
   "outputs": [
    {
     "data": {
      "text/html": [
       "<table border=\"1\" class=\"dataframe\">\n",
       "  <thead>\n",
       "    <tr style=\"text-align: right;\">\n",
       "      <th>n</th>\n",
       "      <th>m</th>\n",
       "      <th>alpha_far</th>\n",
       "      <th>Lower Bound</th>\n",
       "      <th>Upper Bound</th>\n",
       "      <th>beta_far</th>\n",
       "      <th>beta_fap</th>\n",
       "    </tr>\n",
       "  </thead>\n",
       "  <tbody>\n",
       "    <tr>\n",
       "      <td>2</td>\n",
       "      <td>60</td>\n",
       "      <td>0.000833</td>\n",
       "      <td>2.750285e-07</td>\n",
       "      <td>13.997070</td>\n",
       "      <td>0.989266</td>\n",
       "      <td>1.000000</td>\n",
       "    </tr>\n",
       "    <tr>\n",
       "      <td>3</td>\n",
       "      <td>40</td>\n",
       "      <td>0.001250</td>\n",
       "      <td>6.252004e-04</td>\n",
       "      <td>8.121763</td>\n",
       "      <td>0.978684</td>\n",
       "      <td>1.000000</td>\n",
       "    </tr>\n",
       "    <tr>\n",
       "      <td>4</td>\n",
       "      <td>30</td>\n",
       "      <td>0.001667</td>\n",
       "      <td>7.128342e-03</td>\n",
       "      <td>6.079800</td>\n",
       "      <td>0.966478</td>\n",
       "      <td>1.000000</td>\n",
       "    </tr>\n",
       "    <tr>\n",
       "      <td>5</td>\n",
       "      <td>24</td>\n",
       "      <td>0.002083</td>\n",
       "      <td>2.294001e-02</td>\n",
       "      <td>5.026079</td>\n",
       "      <td>0.952830</td>\n",
       "      <td>1.000000</td>\n",
       "    </tr>\n",
       "    <tr>\n",
       "      <td>6</td>\n",
       "      <td>20</td>\n",
       "      <td>0.002500</td>\n",
       "      <td>4.544226e-02</td>\n",
       "      <td>4.377238</td>\n",
       "      <td>0.937960</td>\n",
       "      <td>1.000000</td>\n",
       "    </tr>\n",
       "    <tr>\n",
       "      <td>8</td>\n",
       "      <td>15</td>\n",
       "      <td>0.003333</td>\n",
       "      <td>9.791635e-02</td>\n",
       "      <td>3.612753</td>\n",
       "      <td>0.905379</td>\n",
       "      <td>1.000000</td>\n",
       "    </tr>\n",
       "    <tr>\n",
       "      <td>10</td>\n",
       "      <td>12</td>\n",
       "      <td>0.004167</td>\n",
       "      <td>1.496345e-01</td>\n",
       "      <td>3.172554</td>\n",
       "      <td>0.870199</td>\n",
       "      <td>1.000000</td>\n",
       "    </tr>\n",
       "    <tr>\n",
       "      <td>12</td>\n",
       "      <td>10</td>\n",
       "      <td>0.005000</td>\n",
       "      <td>1.963130e-01</td>\n",
       "      <td>2.884192</td>\n",
       "      <td>0.833604</td>\n",
       "      <td>1.000000</td>\n",
       "    </tr>\n",
       "    <tr>\n",
       "      <td>15</td>\n",
       "      <td>8</td>\n",
       "      <td>0.006250</td>\n",
       "      <td>2.559785e-01</td>\n",
       "      <td>2.598161</td>\n",
       "      <td>0.778043</td>\n",
       "      <td>1.000000</td>\n",
       "    </tr>\n",
       "    <tr>\n",
       "      <td>20</td>\n",
       "      <td>6</td>\n",
       "      <td>0.008333</td>\n",
       "      <td>3.327507e-01</td>\n",
       "      <td>2.313031</td>\n",
       "      <td>0.688811</td>\n",
       "      <td>1.000000</td>\n",
       "    </tr>\n",
       "    <tr>\n",
       "      <td>24</td>\n",
       "      <td>5</td>\n",
       "      <td>0.010000</td>\n",
       "      <td>3.793452e-01</td>\n",
       "      <td>2.170856</td>\n",
       "      <td>0.623784</td>\n",
       "      <td>1.000000</td>\n",
       "    </tr>\n",
       "    <tr>\n",
       "      <td>30</td>\n",
       "      <td>4</td>\n",
       "      <td>0.012500</td>\n",
       "      <td>4.325638e-01</td>\n",
       "      <td>2.030288</td>\n",
       "      <td>0.539850</td>\n",
       "      <td>1.000000</td>\n",
       "    </tr>\n",
       "    <tr>\n",
       "      <td>40</td>\n",
       "      <td>3</td>\n",
       "      <td>0.016667</td>\n",
       "      <td>4.927197e-01</td>\n",
       "      <td>1.896905</td>\n",
       "      <td>0.437030</td>\n",
       "      <td>1.000000</td>\n",
       "    </tr>\n",
       "    <tr>\n",
       "      <td>60</td>\n",
       "      <td>2</td>\n",
       "      <td>0.025000</td>\n",
       "      <td>5.541752e-01</td>\n",
       "      <td>1.804483</td>\n",
       "      <td>0.347036</td>\n",
       "      <td>0.694071</td>\n",
       "    </tr>\n",
       "  </tbody>\n",
       "</table>"
      ],
      "text/plain": [
       "<IPython.core.display.HTML object>"
      ]
     },
     "metadata": {},
     "output_type": "display_data"
    }
   ],
   "source": [
    "sampling_plans=pd.DataFrame({'m':m,'alpha_far':alpha_far,'Lower Bound':lb,'Upper Bound':ub,'n':n,'beta_far':beta_far,'beta_fap':beta_fap})\n",
    "sampling_plans=sampling_plans[['n','m','alpha_far','Lower Bound','Upper Bound','beta_far','beta_fap']]\n",
    "display(HTML(sampling_plans.to_html(index=False)))\n",
    "#sampling_plans.style"
   ]
  },
  {
   "cell_type": "code",
   "execution_count": null,
   "metadata": {},
   "outputs": [],
   "source": []
  }
 ],
 "metadata": {
  "kernelspec": {
   "display_name": "Python 3",
   "language": "python",
   "name": "python3"
  },
  "language_info": {
   "codemirror_mode": {
    "name": "ipython",
    "version": 3
   },
   "file_extension": ".py",
   "mimetype": "text/x-python",
   "name": "python",
   "nbconvert_exporter": "python",
   "pygments_lexer": "ipython3",
   "version": "3.6.8"
  }
 },
 "nbformat": 4,
 "nbformat_minor": 2
}
