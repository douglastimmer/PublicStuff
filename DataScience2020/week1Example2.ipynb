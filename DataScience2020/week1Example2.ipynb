{
 "cells": [
  {
   "cell_type": "code",
   "execution_count": 1,
   "metadata": {},
   "outputs": [
    {
     "name": "stdout",
     "output_type": "stream",
     "text": [
      "Enter the total sample size: 100\n",
      "n= [2, 4, 5, 10, 20, 25, 50]\n",
      "m= [50, 25, 20, 10, 5, 4, 2]\n"
     ]
    }
   ],
   "source": [
    "import scipy.stats as stat\n",
    "import pandas as pd\n",
    "from IPython.display import Image,display,Latex, HTML\n",
    "N=int(input(\"Enter the total sample size: \"))\n",
    "n=[]\n",
    "m=[]\n",
    "for i in range(2,N//2+1):\n",
    "    if (N%i==0):\n",
    "        n.append(int(i))\n",
    "        m.append(int(N/i))\n",
    "print(\"n=\",n)\n",
    "print(\"m=\",m)"
   ]
  },
  {
   "cell_type": "code",
   "execution_count": 2,
   "metadata": {},
   "outputs": [
    {
     "name": "stdout",
     "output_type": "stream",
     "text": [
      "Enter the overall type I error rate (alpha-FAP): 0.1\n",
      "Enter the value of lambda for calculating type II error: 2.0\n"
     ]
    }
   ],
   "source": [
    "alpha_fap=float(input(\"Enter the overall type I error rate (alpha-FAP): \"))\n",
    "l=float(input(\"Enter the value of lambda for calculating type II error: \"))"
   ]
  },
  {
   "cell_type": "code",
   "execution_count": 3,
   "metadata": {},
   "outputs": [],
   "source": [
    "ub=[]\n",
    "lb=[]\n",
    "alpha_far=[]\n",
    "beta_far=[]\n",
    "beta_fap=[]\n",
    "for j in range(0,len(n)):\n",
    "    alpha_far.append(alpha_fap/m[j])\n",
    "    lb.append(stat.f.ppf(alpha_far[j]/2.0,n[j]-1,(n[j]-1)*(m[j]-1)))\n",
    "    ub.append(stat.f.ppf(1.0-alpha_far[j]/2.0,n[j]-1,(n[j]-1)*(m[j]-1)))\n",
    "    beta_far.append(stat.f.cdf(ub[j]/l,n[j]-1,(n[j]-1)*(m[j]-1))-stat.f.cdf(lb[j]/l,n[j]-1,(n[j]-1)*(m[j]-1)))\n",
    "    beta_fap.append(min(1.0,m[j]*beta_far[j]))"
   ]
  },
  {
   "cell_type": "code",
   "execution_count": 4,
   "metadata": {},
   "outputs": [
    {
     "data": {
      "text/html": [
       "<table border=\"1\" class=\"dataframe\">\n",
       "  <thead>\n",
       "    <tr style=\"text-align: right;\">\n",
       "      <th>n</th>\n",
       "      <th>m</th>\n",
       "      <th>alpha_far</th>\n",
       "      <th>Lower Bound</th>\n",
       "      <th>Upper Bound</th>\n",
       "      <th>beta_far</th>\n",
       "      <th>beta_fap</th>\n",
       "    </tr>\n",
       "  </thead>\n",
       "  <tbody>\n",
       "    <tr>\n",
       "      <td>2</td>\n",
       "      <td>50</td>\n",
       "      <td>0.002</td>\n",
       "      <td>0.000002</td>\n",
       "      <td>12.253100</td>\n",
       "      <td>0.982470</td>\n",
       "      <td>1.000000</td>\n",
       "    </tr>\n",
       "    <tr>\n",
       "      <td>4</td>\n",
       "      <td>25</td>\n",
       "      <td>0.004</td>\n",
       "      <td>0.012809</td>\n",
       "      <td>5.434338</td>\n",
       "      <td>0.948391</td>\n",
       "      <td>1.000000</td>\n",
       "    </tr>\n",
       "    <tr>\n",
       "      <td>5</td>\n",
       "      <td>20</td>\n",
       "      <td>0.005</td>\n",
       "      <td>0.035783</td>\n",
       "      <td>4.518894</td>\n",
       "      <td>0.928894</td>\n",
       "      <td>1.000000</td>\n",
       "    </tr>\n",
       "    <tr>\n",
       "      <td>10</td>\n",
       "      <td>10</td>\n",
       "      <td>0.010</td>\n",
       "      <td>0.186794</td>\n",
       "      <td>2.902919</td>\n",
       "      <td>0.819211</td>\n",
       "      <td>1.000000</td>\n",
       "    </tr>\n",
       "    <tr>\n",
       "      <td>20</td>\n",
       "      <td>5</td>\n",
       "      <td>0.020</td>\n",
       "      <td>0.379263</td>\n",
       "      <td>2.153620</td>\n",
       "      <td>0.609028</td>\n",
       "      <td>1.000000</td>\n",
       "    </tr>\n",
       "    <tr>\n",
       "      <td>25</td>\n",
       "      <td>4</td>\n",
       "      <td>0.025</td>\n",
       "      <td>0.435787</td>\n",
       "      <td>2.006780</td>\n",
       "      <td>0.526201</td>\n",
       "      <td>1.000000</td>\n",
       "    </tr>\n",
       "    <tr>\n",
       "      <td>50</td>\n",
       "      <td>2</td>\n",
       "      <td>0.050</td>\n",
       "      <td>0.567476</td>\n",
       "      <td>1.762189</td>\n",
       "      <td>0.329717</td>\n",
       "      <td>0.659434</td>\n",
       "    </tr>\n",
       "  </tbody>\n",
       "</table>"
      ],
      "text/plain": [
       "<IPython.core.display.HTML object>"
      ]
     },
     "metadata": {},
     "output_type": "display_data"
    }
   ],
   "source": [
    "sampling_plans=pd.DataFrame({'m':m,'alpha_far':alpha_far,'Lower Bound':lb,'Upper Bound':ub,'n':n,'beta_far':beta_far,'beta_fap':beta_fap})\n",
    "sampling_plans=sampling_plans[['n','m','alpha_far','Lower Bound','Upper Bound','beta_far','beta_fap']]\n",
    "display(HTML(sampling_plans.to_html(index=False)))\n",
    "#sampling_plans.style"
   ]
  },
  {
   "cell_type": "code",
   "execution_count": null,
   "metadata": {},
   "outputs": [],
   "source": []
  }
 ],
 "metadata": {
  "kernelspec": {
   "display_name": "Python 3",
   "language": "python",
   "name": "python3"
  },
  "language_info": {
   "codemirror_mode": {
    "name": "ipython",
    "version": 3
   },
   "file_extension": ".py",
   "mimetype": "text/x-python",
   "name": "python",
   "nbconvert_exporter": "python",
   "pygments_lexer": "ipython3",
   "version": "3.6.1"
  }
 },
 "nbformat": 4,
 "nbformat_minor": 2
}
